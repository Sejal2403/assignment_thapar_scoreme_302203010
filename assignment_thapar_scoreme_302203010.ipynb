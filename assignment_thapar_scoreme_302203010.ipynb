{
 "cells": [
  {
   "cell_type": "code",
   "execution_count": 10,
   "id": "48c47048",
   "metadata": {},
   "outputs": [],
   "source": [
    "def topological_sort(graph, in_degree):\n",
    "    n = len(graph)\n",
    "    zero_in_degree_queue = []\n",
    "    for i in range(n):\n",
    "        if in_degree[i] == 0:\n",
    "            zero_in_degree_queue.append(i)\n",
    "    \n",
    "    topological_order = []\n",
    "    while zero_in_degree_queue:\n",
    "        node = zero_in_degree_queue.pop(0)\n",
    "        topological_order.append(node)\n",
    "        for neighbor, _ in graph[node]:\n",
    "            in_degree[neighbor] -= 1\n",
    "            if in_degree[neighbor] == 0:\n",
    "                zero_in_degree_queue.append(neighbor)\n",
    "    \n",
    "    return topological_order\n",
    "\n",
    "def longest_path(graph):\n",
    "    n = len(graph)\n",
    "    \n",
    "    # Step 1: Compute in-degree for each node\n",
    "    in_degree = [0] * n\n",
    "    for neighbors in graph:\n",
    "        for neighbor, _ in neighbors:\n",
    "            in_degree[neighbor] += 1\n",
    "    \n",
    "    # Step 2: Perform topological sorting using custom function\n",
    "    topological_order = topological_sort(graph, in_degree[:])\n",
    "    \n",
    "    # Step 3: Initialize DP array\n",
    "    dp = [-float('inf')] * n\n",
    "    dp[topological_order[0]] = 0  # longest path starting from the first node in the topological order is 0\n",
    "    \n",
    "    # Step 4: Process nodes in topological order\n",
    "    for node in topological_order:\n",
    "        if dp[node] != -float('inf'):  # Only process nodes that are reachable from the source\n",
    "            for neighbor, weight in graph[node]:\n",
    "                dp[neighbor] = max(dp[neighbor], dp[node] + weight)\n",
    "    \n",
    "    # Step 5: Find the maximum value in dp array, which represents the longest path\n",
    "    longest_path_length = -float('inf')\n",
    "    for length in dp:\n",
    "        if length > longest_path_length:\n",
    "            longest_path_length = length\n",
    "    \n",
    "    return longest_path_length"
   ]
  },
  {
   "cell_type": "code",
   "execution_count": 11,
   "id": "7ac2b7f6",
   "metadata": {},
   "outputs": [],
   "source": [
    "# Example usage:\n",
    "# Example graph as adjacency list\n",
    "graph = [\n",
    "    [(1, 2)],          # Node 0 points to node 1 with weight 2\n",
    "    [(2, 3), (3, 4)],  # Node 1 points to node 2 with weight 3 and node 3 with weight 4\n",
    "    [(4, 5)],          # Node 2 points to node 4 with weight 5\n",
    "    [],                # Node 3 has no outgoing edges\n",
    "    []                 # Node 4 has no outgoing edges\n",
    "]"
   ]
  },
  {
   "cell_type": "code",
   "execution_count": 12,
   "id": "bbea213e",
   "metadata": {},
   "outputs": [
    {
     "name": "stdout",
     "output_type": "stream",
     "text": [
      "Longest path length: 10\n"
     ]
    }
   ],
   "source": [
    "result = longest_path(graph)\n",
    "print(\"Longest path length:\", result)"
   ]
  },
  {
   "cell_type": "code",
   "execution_count": null,
   "id": "1430a325",
   "metadata": {},
   "outputs": [],
   "source": []
  }
 ],
 "metadata": {
  "kernelspec": {
   "display_name": "Python 3 (ipykernel)",
   "language": "python",
   "name": "python3"
  },
  "language_info": {
   "codemirror_mode": {
    "name": "ipython",
    "version": 3
   },
   "file_extension": ".py",
   "mimetype": "text/x-python",
   "name": "python",
   "nbconvert_exporter": "python",
   "pygments_lexer": "ipython3",
   "version": "3.10.9"
  }
 },
 "nbformat": 4,
 "nbformat_minor": 5
}
